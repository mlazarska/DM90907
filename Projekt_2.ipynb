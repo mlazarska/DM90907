{
 "cells": [
  {
   "cell_type": "code",
   "execution_count": 308,
   "metadata": {},
   "outputs": [],
   "source": [
    "import numpy as np\n",
    "import pandas as pd\n",
    "import matplotlib.pyplot as plt\n",
    "%matplotlib inline"
   ]
  },
  {
   "cell_type": "code",
   "execution_count": 309,
   "metadata": {},
   "outputs": [],
   "source": [
    "#wczytanie danych\n",
    "\n",
    "dane = pd.read_csv('abt_app.csv',sep = '\\t',decimal = '.')"
   ]
  },
  {
   "cell_type": "code",
   "execution_count": 310,
   "metadata": {},
   "outputs": [],
   "source": [
    "dane = pd.DataFrame(dane)"
   ]
  },
  {
   "cell_type": "code",
   "execution_count": 311,
   "metadata": {},
   "outputs": [
    {
     "data": {
      "text/html": [
       "<div>\n",
       "<style scoped>\n",
       "    .dataframe tbody tr th:only-of-type {\n",
       "        vertical-align: middle;\n",
       "    }\n",
       "\n",
       "    .dataframe tbody tr th {\n",
       "        vertical-align: top;\n",
       "    }\n",
       "\n",
       "    .dataframe thead th {\n",
       "        text-align: right;\n",
       "    }\n",
       "</style>\n",
       "<table border=\"1\" class=\"dataframe\">\n",
       "  <thead>\n",
       "    <tr style=\"text-align: right;\">\n",
       "      <th></th>\n",
       "      <th>cid</th>\n",
       "      <th>aid</th>\n",
       "      <th>product</th>\n",
       "      <th>period</th>\n",
       "      <th>act_age</th>\n",
       "      <th>act_cc</th>\n",
       "      <th>act_loaninc</th>\n",
       "      <th>app_income</th>\n",
       "      <th>app_loan_amount</th>\n",
       "      <th>app_n_installments</th>\n",
       "      <th>...</th>\n",
       "      <th>default3</th>\n",
       "      <th>default6</th>\n",
       "      <th>default9</th>\n",
       "      <th>default12</th>\n",
       "      <th>default_cross3</th>\n",
       "      <th>default_cross6</th>\n",
       "      <th>default_cross9</th>\n",
       "      <th>default_cross12</th>\n",
       "      <th>cross_app_loan_amount</th>\n",
       "      <th>cross_app_n_installments</th>\n",
       "    </tr>\n",
       "  </thead>\n",
       "  <tbody>\n",
       "    <tr>\n",
       "      <th>0</th>\n",
       "      <td>1330</td>\n",
       "      <td>css1975010100098</td>\n",
       "      <td>css</td>\n",
       "      <td>197501</td>\n",
       "      <td>45.0</td>\n",
       "      <td>0.326905</td>\n",
       "      <td>1.530456</td>\n",
       "      <td>3267.0</td>\n",
       "      <td>5000.0</td>\n",
       "      <td>24.0</td>\n",
       "      <td>...</td>\n",
       "      <td>NaN</td>\n",
       "      <td>NaN</td>\n",
       "      <td>1.0</td>\n",
       "      <td>1.0</td>\n",
       "      <td>NaN</td>\n",
       "      <td>NaN</td>\n",
       "      <td>NaN</td>\n",
       "      <td>NaN</td>\n",
       "      <td>NaN</td>\n",
       "      <td>NaN</td>\n",
       "    </tr>\n",
       "    <tr>\n",
       "      <th>1</th>\n",
       "      <td>2179</td>\n",
       "      <td>css1975010100120</td>\n",
       "      <td>css</td>\n",
       "      <td>197501</td>\n",
       "      <td>42.0</td>\n",
       "      <td>0.538908</td>\n",
       "      <td>2.903600</td>\n",
       "      <td>1722.0</td>\n",
       "      <td>5000.0</td>\n",
       "      <td>24.0</td>\n",
       "      <td>...</td>\n",
       "      <td>0.0</td>\n",
       "      <td>0.0</td>\n",
       "      <td>0.0</td>\n",
       "      <td>0.0</td>\n",
       "      <td>NaN</td>\n",
       "      <td>NaN</td>\n",
       "      <td>NaN</td>\n",
       "      <td>NaN</td>\n",
       "      <td>NaN</td>\n",
       "      <td>NaN</td>\n",
       "    </tr>\n",
       "    <tr>\n",
       "      <th>2</th>\n",
       "      <td>146</td>\n",
       "      <td>css1975010200014</td>\n",
       "      <td>css</td>\n",
       "      <td>197501</td>\n",
       "      <td>59.0</td>\n",
       "      <td>0.543742</td>\n",
       "      <td>3.364738</td>\n",
       "      <td>1486.0</td>\n",
       "      <td>5000.0</td>\n",
       "      <td>24.0</td>\n",
       "      <td>...</td>\n",
       "      <td>0.0</td>\n",
       "      <td>0.0</td>\n",
       "      <td>0.0</td>\n",
       "      <td>0.0</td>\n",
       "      <td>0.0</td>\n",
       "      <td>0.0</td>\n",
       "      <td>0.0</td>\n",
       "      <td>0.0</td>\n",
       "      <td>5000.0</td>\n",
       "      <td>24.0</td>\n",
       "    </tr>\n",
       "    <tr>\n",
       "      <th>3</th>\n",
       "      <td>479</td>\n",
       "      <td>css1975010200047</td>\n",
       "      <td>css</td>\n",
       "      <td>197501</td>\n",
       "      <td>63.0</td>\n",
       "      <td>0.587702</td>\n",
       "      <td>3.236246</td>\n",
       "      <td>1545.0</td>\n",
       "      <td>5000.0</td>\n",
       "      <td>24.0</td>\n",
       "      <td>...</td>\n",
       "      <td>0.0</td>\n",
       "      <td>0.0</td>\n",
       "      <td>0.0</td>\n",
       "      <td>0.0</td>\n",
       "      <td>NaN</td>\n",
       "      <td>NaN</td>\n",
       "      <td>NaN</td>\n",
       "      <td>NaN</td>\n",
       "      <td>NaN</td>\n",
       "      <td>NaN</td>\n",
       "    </tr>\n",
       "    <tr>\n",
       "      <th>4</th>\n",
       "      <td>4514</td>\n",
       "      <td>css1975010200151</td>\n",
       "      <td>css</td>\n",
       "      <td>197501</td>\n",
       "      <td>48.0</td>\n",
       "      <td>0.436407</td>\n",
       "      <td>1.506932</td>\n",
       "      <td>3318.0</td>\n",
       "      <td>5000.0</td>\n",
       "      <td>24.0</td>\n",
       "      <td>...</td>\n",
       "      <td>NaN</td>\n",
       "      <td>NaN</td>\n",
       "      <td>NaN</td>\n",
       "      <td>1.0</td>\n",
       "      <td>NaN</td>\n",
       "      <td>NaN</td>\n",
       "      <td>NaN</td>\n",
       "      <td>NaN</td>\n",
       "      <td>NaN</td>\n",
       "      <td>NaN</td>\n",
       "    </tr>\n",
       "  </tbody>\n",
       "</table>\n",
       "<p>5 rows × 219 columns</p>\n",
       "</div>"
      ],
      "text/plain": [
       "    cid               aid product  period  act_age    act_cc  act_loaninc  \\\n",
       "0  1330  css1975010100098     css  197501     45.0  0.326905     1.530456   \n",
       "1  2179  css1975010100120     css  197501     42.0  0.538908     2.903600   \n",
       "2   146  css1975010200014     css  197501     59.0  0.543742     3.364738   \n",
       "3   479  css1975010200047     css  197501     63.0  0.587702     3.236246   \n",
       "4  4514  css1975010200151     css  197501     48.0  0.436407     1.506932   \n",
       "\n",
       "   app_income  app_loan_amount  app_n_installments           ...             \\\n",
       "0      3267.0           5000.0                24.0           ...              \n",
       "1      1722.0           5000.0                24.0           ...              \n",
       "2      1486.0           5000.0                24.0           ...              \n",
       "3      1545.0           5000.0                24.0           ...              \n",
       "4      3318.0           5000.0                24.0           ...              \n",
       "\n",
       "   default3  default6  default9 default12 default_cross3 default_cross6  \\\n",
       "0       NaN       NaN       1.0       1.0            NaN            NaN   \n",
       "1       0.0       0.0       0.0       0.0            NaN            NaN   \n",
       "2       0.0       0.0       0.0       0.0            0.0            0.0   \n",
       "3       0.0       0.0       0.0       0.0            NaN            NaN   \n",
       "4       NaN       NaN       NaN       1.0            NaN            NaN   \n",
       "\n",
       "  default_cross9 default_cross12 cross_app_loan_amount  \\\n",
       "0            NaN             NaN                   NaN   \n",
       "1            NaN             NaN                   NaN   \n",
       "2            0.0             0.0                5000.0   \n",
       "3            NaN             NaN                   NaN   \n",
       "4            NaN             NaN                   NaN   \n",
       "\n",
       "  cross_app_n_installments  \n",
       "0                      NaN  \n",
       "1                      NaN  \n",
       "2                     24.0  \n",
       "3                      NaN  \n",
       "4                      NaN  \n",
       "\n",
       "[5 rows x 219 columns]"
      ]
     },
     "execution_count": 311,
     "metadata": {},
     "output_type": "execute_result"
    }
   ],
   "source": [
    "dane.head()"
   ]
  },
  {
   "cell_type": "code",
   "execution_count": 312,
   "metadata": {},
   "outputs": [],
   "source": [
    "#usunięcie nieistotnych kolumn podanych na zajęciach\n",
    "\n",
    "dane = dane.drop(['aid','cid','period','cross_aid','default3','default6', 'default9',\n",
    "                'default_cross3','default_cross6','default_cross9','default_cross12'],axis = 1)"
   ]
  },
  {
   "cell_type": "code",
   "execution_count": 313,
   "metadata": {},
   "outputs": [
    {
     "data": {
      "text/html": [
       "<div>\n",
       "<style scoped>\n",
       "    .dataframe tbody tr th:only-of-type {\n",
       "        vertical-align: middle;\n",
       "    }\n",
       "\n",
       "    .dataframe tbody tr th {\n",
       "        vertical-align: top;\n",
       "    }\n",
       "\n",
       "    .dataframe thead th {\n",
       "        text-align: right;\n",
       "    }\n",
       "</style>\n",
       "<table border=\"1\" class=\"dataframe\">\n",
       "  <thead>\n",
       "    <tr style=\"text-align: right;\">\n",
       "      <th></th>\n",
       "      <th>product</th>\n",
       "      <th>act_age</th>\n",
       "      <th>act_cc</th>\n",
       "      <th>act_loaninc</th>\n",
       "      <th>app_income</th>\n",
       "      <th>app_loan_amount</th>\n",
       "      <th>app_n_installments</th>\n",
       "      <th>app_number_of_children</th>\n",
       "      <th>app_spendings</th>\n",
       "      <th>app_installment</th>\n",
       "      <th>...</th>\n",
       "      <th>ags12_Min_CMaxA_Due</th>\n",
       "      <th>act12_n_arrears</th>\n",
       "      <th>act12_n_arrears_days</th>\n",
       "      <th>act12_n_good_days</th>\n",
       "      <th>decision</th>\n",
       "      <th>cross_response</th>\n",
       "      <th>cross_after_monhs</th>\n",
       "      <th>default12</th>\n",
       "      <th>cross_app_loan_amount</th>\n",
       "      <th>cross_app_n_installments</th>\n",
       "    </tr>\n",
       "  </thead>\n",
       "  <tbody>\n",
       "    <tr>\n",
       "      <th>0</th>\n",
       "      <td>css</td>\n",
       "      <td>45.0</td>\n",
       "      <td>0.326905</td>\n",
       "      <td>1.530456</td>\n",
       "      <td>3267.0</td>\n",
       "      <td>5000.0</td>\n",
       "      <td>24.0</td>\n",
       "      <td>3.0</td>\n",
       "      <td>860.0</td>\n",
       "      <td>208.0</td>\n",
       "      <td>...</td>\n",
       "      <td>0.0</td>\n",
       "      <td>10.0</td>\n",
       "      <td>2.0</td>\n",
       "      <td>4.0</td>\n",
       "      <td>A</td>\n",
       "      <td>0.0</td>\n",
       "      <td>NaN</td>\n",
       "      <td>1.0</td>\n",
       "      <td>NaN</td>\n",
       "      <td>NaN</td>\n",
       "    </tr>\n",
       "    <tr>\n",
       "      <th>1</th>\n",
       "      <td>css</td>\n",
       "      <td>42.0</td>\n",
       "      <td>0.538908</td>\n",
       "      <td>2.903600</td>\n",
       "      <td>1722.0</td>\n",
       "      <td>5000.0</td>\n",
       "      <td>24.0</td>\n",
       "      <td>1.0</td>\n",
       "      <td>720.0</td>\n",
       "      <td>208.0</td>\n",
       "      <td>...</td>\n",
       "      <td>0.0</td>\n",
       "      <td>0.0</td>\n",
       "      <td>0.0</td>\n",
       "      <td>1.0</td>\n",
       "      <td>A</td>\n",
       "      <td>0.0</td>\n",
       "      <td>NaN</td>\n",
       "      <td>0.0</td>\n",
       "      <td>NaN</td>\n",
       "      <td>NaN</td>\n",
       "    </tr>\n",
       "    <tr>\n",
       "      <th>2</th>\n",
       "      <td>css</td>\n",
       "      <td>59.0</td>\n",
       "      <td>0.543742</td>\n",
       "      <td>3.364738</td>\n",
       "      <td>1486.0</td>\n",
       "      <td>5000.0</td>\n",
       "      <td>24.0</td>\n",
       "      <td>2.0</td>\n",
       "      <td>600.0</td>\n",
       "      <td>208.0</td>\n",
       "      <td>...</td>\n",
       "      <td>0.0</td>\n",
       "      <td>4.0</td>\n",
       "      <td>0.0</td>\n",
       "      <td>1.0</td>\n",
       "      <td>A</td>\n",
       "      <td>1.0</td>\n",
       "      <td>4.0</td>\n",
       "      <td>0.0</td>\n",
       "      <td>5000.0</td>\n",
       "      <td>24.0</td>\n",
       "    </tr>\n",
       "    <tr>\n",
       "      <th>3</th>\n",
       "      <td>css</td>\n",
       "      <td>63.0</td>\n",
       "      <td>0.587702</td>\n",
       "      <td>3.236246</td>\n",
       "      <td>1545.0</td>\n",
       "      <td>5000.0</td>\n",
       "      <td>24.0</td>\n",
       "      <td>0.0</td>\n",
       "      <td>700.0</td>\n",
       "      <td>208.0</td>\n",
       "      <td>...</td>\n",
       "      <td>0.0</td>\n",
       "      <td>3.0</td>\n",
       "      <td>0.0</td>\n",
       "      <td>4.0</td>\n",
       "      <td>A</td>\n",
       "      <td>0.0</td>\n",
       "      <td>NaN</td>\n",
       "      <td>0.0</td>\n",
       "      <td>NaN</td>\n",
       "      <td>NaN</td>\n",
       "    </tr>\n",
       "    <tr>\n",
       "      <th>4</th>\n",
       "      <td>css</td>\n",
       "      <td>48.0</td>\n",
       "      <td>0.436407</td>\n",
       "      <td>1.506932</td>\n",
       "      <td>3318.0</td>\n",
       "      <td>5000.0</td>\n",
       "      <td>24.0</td>\n",
       "      <td>2.0</td>\n",
       "      <td>1240.0</td>\n",
       "      <td>208.0</td>\n",
       "      <td>...</td>\n",
       "      <td>0.0</td>\n",
       "      <td>0.0</td>\n",
       "      <td>0.0</td>\n",
       "      <td>10.0</td>\n",
       "      <td>A</td>\n",
       "      <td>0.0</td>\n",
       "      <td>NaN</td>\n",
       "      <td>1.0</td>\n",
       "      <td>NaN</td>\n",
       "      <td>NaN</td>\n",
       "    </tr>\n",
       "  </tbody>\n",
       "</table>\n",
       "<p>5 rows × 208 columns</p>\n",
       "</div>"
      ],
      "text/plain": [
       "  product  act_age    act_cc  act_loaninc  app_income  app_loan_amount  \\\n",
       "0     css     45.0  0.326905     1.530456      3267.0           5000.0   \n",
       "1     css     42.0  0.538908     2.903600      1722.0           5000.0   \n",
       "2     css     59.0  0.543742     3.364738      1486.0           5000.0   \n",
       "3     css     63.0  0.587702     3.236246      1545.0           5000.0   \n",
       "4     css     48.0  0.436407     1.506932      3318.0           5000.0   \n",
       "\n",
       "   app_n_installments  app_number_of_children  app_spendings  app_installment  \\\n",
       "0                24.0                     3.0          860.0            208.0   \n",
       "1                24.0                     1.0          720.0            208.0   \n",
       "2                24.0                     2.0          600.0            208.0   \n",
       "3                24.0                     0.0          700.0            208.0   \n",
       "4                24.0                     2.0         1240.0            208.0   \n",
       "\n",
       "             ...            ags12_Min_CMaxA_Due act12_n_arrears  \\\n",
       "0            ...                            0.0            10.0   \n",
       "1            ...                            0.0             0.0   \n",
       "2            ...                            0.0             4.0   \n",
       "3            ...                            0.0             3.0   \n",
       "4            ...                            0.0             0.0   \n",
       "\n",
       "  act12_n_arrears_days act12_n_good_days decision cross_response  \\\n",
       "0                  2.0               4.0        A            0.0   \n",
       "1                  0.0               1.0        A            0.0   \n",
       "2                  0.0               1.0        A            1.0   \n",
       "3                  0.0               4.0        A            0.0   \n",
       "4                  0.0              10.0        A            0.0   \n",
       "\n",
       "  cross_after_monhs  default12  cross_app_loan_amount  \\\n",
       "0               NaN        1.0                    NaN   \n",
       "1               NaN        0.0                    NaN   \n",
       "2               4.0        0.0                 5000.0   \n",
       "3               NaN        0.0                    NaN   \n",
       "4               NaN        1.0                    NaN   \n",
       "\n",
       "   cross_app_n_installments  \n",
       "0                       NaN  \n",
       "1                       NaN  \n",
       "2                      24.0  \n",
       "3                       NaN  \n",
       "4                       NaN  \n",
       "\n",
       "[5 rows x 208 columns]"
      ]
     },
     "execution_count": 313,
     "metadata": {},
     "output_type": "execute_result"
    }
   ],
   "source": [
    "dane.head()"
   ]
  },
  {
   "cell_type": "code",
   "execution_count": 314,
   "metadata": {},
   "outputs": [
    {
     "data": {
      "text/html": [
       "<div>\n",
       "<style scoped>\n",
       "    .dataframe tbody tr th:only-of-type {\n",
       "        vertical-align: middle;\n",
       "    }\n",
       "\n",
       "    .dataframe tbody tr th {\n",
       "        vertical-align: top;\n",
       "    }\n",
       "\n",
       "    .dataframe thead th {\n",
       "        text-align: right;\n",
       "    }\n",
       "</style>\n",
       "<table border=\"1\" class=\"dataframe\">\n",
       "  <thead>\n",
       "    <tr style=\"text-align: right;\">\n",
       "      <th></th>\n",
       "      <th>act_age</th>\n",
       "      <th>act_cc</th>\n",
       "      <th>act_loaninc</th>\n",
       "      <th>app_income</th>\n",
       "      <th>app_loan_amount</th>\n",
       "      <th>app_n_installments</th>\n",
       "      <th>app_number_of_children</th>\n",
       "      <th>app_spendings</th>\n",
       "      <th>app_installment</th>\n",
       "      <th>act_call_cc</th>\n",
       "      <th>...</th>\n",
       "      <th>agr12_Min_CMaxA_Due</th>\n",
       "      <th>ags12_Min_CMaxA_Due</th>\n",
       "      <th>act12_n_arrears</th>\n",
       "      <th>act12_n_arrears_days</th>\n",
       "      <th>act12_n_good_days</th>\n",
       "      <th>cross_response</th>\n",
       "      <th>cross_after_monhs</th>\n",
       "      <th>default12</th>\n",
       "      <th>cross_app_loan_amount</th>\n",
       "      <th>cross_app_n_installments</th>\n",
       "    </tr>\n",
       "  </thead>\n",
       "  <tbody>\n",
       "    <tr>\n",
       "      <th>count</th>\n",
       "      <td>11437.000000</td>\n",
       "      <td>11437.000000</td>\n",
       "      <td>11437.000000</td>\n",
       "      <td>11437.000000</td>\n",
       "      <td>11437.0</td>\n",
       "      <td>11437.0</td>\n",
       "      <td>11437.000000</td>\n",
       "      <td>11437.000000</td>\n",
       "      <td>11437.0</td>\n",
       "      <td>11437.000000</td>\n",
       "      <td>...</td>\n",
       "      <td>8562.000000</td>\n",
       "      <td>11437.000000</td>\n",
       "      <td>11437.000000</td>\n",
       "      <td>11437.000000</td>\n",
       "      <td>11437.000000</td>\n",
       "      <td>11437.000000</td>\n",
       "      <td>4261.000000</td>\n",
       "      <td>9861.000000</td>\n",
       "      <td>4261.0</td>\n",
       "      <td>4261.0</td>\n",
       "    </tr>\n",
       "    <tr>\n",
       "      <th>mean</th>\n",
       "      <td>62.945703</td>\n",
       "      <td>0.573563</td>\n",
       "      <td>4.537371</td>\n",
       "      <td>1689.843578</td>\n",
       "      <td>5000.0</td>\n",
       "      <td>24.0</td>\n",
       "      <td>0.678849</td>\n",
       "      <td>626.248142</td>\n",
       "      <td>208.0</td>\n",
       "      <td>0.996984</td>\n",
       "      <td>...</td>\n",
       "      <td>0.024644</td>\n",
       "      <td>0.018449</td>\n",
       "      <td>3.725802</td>\n",
       "      <td>0.123109</td>\n",
       "      <td>5.270001</td>\n",
       "      <td>0.372563</td>\n",
       "      <td>4.140812</td>\n",
       "      <td>0.490417</td>\n",
       "      <td>5000.0</td>\n",
       "      <td>24.0</td>\n",
       "    </tr>\n",
       "    <tr>\n",
       "      <th>std</th>\n",
       "      <td>10.841513</td>\n",
       "      <td>0.195650</td>\n",
       "      <td>3.117308</td>\n",
       "      <td>1270.424921</td>\n",
       "      <td>0.0</td>\n",
       "      <td>0.0</td>\n",
       "      <td>0.889654</td>\n",
       "      <td>543.503164</td>\n",
       "      <td>0.0</td>\n",
       "      <td>0.500551</td>\n",
       "      <td>...</td>\n",
       "      <td>0.155046</td>\n",
       "      <td>0.134574</td>\n",
       "      <td>3.518478</td>\n",
       "      <td>0.393265</td>\n",
       "      <td>2.792088</td>\n",
       "      <td>0.483508</td>\n",
       "      <td>0.347868</td>\n",
       "      <td>0.499934</td>\n",
       "      <td>0.0</td>\n",
       "      <td>0.0</td>\n",
       "    </tr>\n",
       "    <tr>\n",
       "      <th>min</th>\n",
       "      <td>25.000000</td>\n",
       "      <td>0.065157</td>\n",
       "      <td>0.316857</td>\n",
       "      <td>300.000000</td>\n",
       "      <td>5000.0</td>\n",
       "      <td>24.0</td>\n",
       "      <td>0.000000</td>\n",
       "      <td>0.000000</td>\n",
       "      <td>208.0</td>\n",
       "      <td>0.099325</td>\n",
       "      <td>...</td>\n",
       "      <td>0.000000</td>\n",
       "      <td>0.000000</td>\n",
       "      <td>0.000000</td>\n",
       "      <td>0.000000</td>\n",
       "      <td>0.000000</td>\n",
       "      <td>0.000000</td>\n",
       "      <td>4.000000</td>\n",
       "      <td>0.000000</td>\n",
       "      <td>5000.0</td>\n",
       "      <td>24.0</td>\n",
       "    </tr>\n",
       "    <tr>\n",
       "      <th>25%</th>\n",
       "      <td>55.000000</td>\n",
       "      <td>0.444740</td>\n",
       "      <td>2.392344</td>\n",
       "      <td>868.000000</td>\n",
       "      <td>5000.0</td>\n",
       "      <td>24.0</td>\n",
       "      <td>0.000000</td>\n",
       "      <td>300.000000</td>\n",
       "      <td>208.0</td>\n",
       "      <td>0.652535</td>\n",
       "      <td>...</td>\n",
       "      <td>0.000000</td>\n",
       "      <td>0.000000</td>\n",
       "      <td>0.000000</td>\n",
       "      <td>0.000000</td>\n",
       "      <td>3.000000</td>\n",
       "      <td>0.000000</td>\n",
       "      <td>4.000000</td>\n",
       "      <td>0.000000</td>\n",
       "      <td>5000.0</td>\n",
       "      <td>24.0</td>\n",
       "    </tr>\n",
       "    <tr>\n",
       "      <th>50%</th>\n",
       "      <td>63.000000</td>\n",
       "      <td>0.570302</td>\n",
       "      <td>3.396739</td>\n",
       "      <td>1472.000000</td>\n",
       "      <td>5000.0</td>\n",
       "      <td>24.0</td>\n",
       "      <td>0.000000</td>\n",
       "      <td>480.000000</td>\n",
       "      <td>208.0</td>\n",
       "      <td>0.895154</td>\n",
       "      <td>...</td>\n",
       "      <td>0.000000</td>\n",
       "      <td>0.000000</td>\n",
       "      <td>3.000000</td>\n",
       "      <td>0.000000</td>\n",
       "      <td>5.000000</td>\n",
       "      <td>0.000000</td>\n",
       "      <td>4.000000</td>\n",
       "      <td>0.000000</td>\n",
       "      <td>5000.0</td>\n",
       "      <td>24.0</td>\n",
       "    </tr>\n",
       "    <tr>\n",
       "      <th>75%</th>\n",
       "      <td>70.000000</td>\n",
       "      <td>0.687358</td>\n",
       "      <td>5.760369</td>\n",
       "      <td>2090.000000</td>\n",
       "      <td>5000.0</td>\n",
       "      <td>24.0</td>\n",
       "      <td>1.000000</td>\n",
       "      <td>760.000000</td>\n",
       "      <td>208.0</td>\n",
       "      <td>1.230357</td>\n",
       "      <td>...</td>\n",
       "      <td>0.000000</td>\n",
       "      <td>0.000000</td>\n",
       "      <td>6.000000</td>\n",
       "      <td>0.000000</td>\n",
       "      <td>7.000000</td>\n",
       "      <td>1.000000</td>\n",
       "      <td>4.000000</td>\n",
       "      <td>1.000000</td>\n",
       "      <td>5000.0</td>\n",
       "      <td>24.0</td>\n",
       "    </tr>\n",
       "    <tr>\n",
       "      <th>max</th>\n",
       "      <td>92.000000</td>\n",
       "      <td>1.295238</td>\n",
       "      <td>16.666667</td>\n",
       "      <td>15780.000000</td>\n",
       "      <td>5000.0</td>\n",
       "      <td>24.0</td>\n",
       "      <td>3.000000</td>\n",
       "      <td>8040.000000</td>\n",
       "      <td>208.0</td>\n",
       "      <td>5.299674</td>\n",
       "      <td>...</td>\n",
       "      <td>1.000000</td>\n",
       "      <td>1.000000</td>\n",
       "      <td>12.000000</td>\n",
       "      <td>5.000000</td>\n",
       "      <td>12.000000</td>\n",
       "      <td>1.000000</td>\n",
       "      <td>5.000000</td>\n",
       "      <td>1.000000</td>\n",
       "      <td>5000.0</td>\n",
       "      <td>24.0</td>\n",
       "    </tr>\n",
       "  </tbody>\n",
       "</table>\n",
       "<p>8 rows × 199 columns</p>\n",
       "</div>"
      ],
      "text/plain": [
       "            act_age        act_cc   act_loaninc    app_income  \\\n",
       "count  11437.000000  11437.000000  11437.000000  11437.000000   \n",
       "mean      62.945703      0.573563      4.537371   1689.843578   \n",
       "std       10.841513      0.195650      3.117308   1270.424921   \n",
       "min       25.000000      0.065157      0.316857    300.000000   \n",
       "25%       55.000000      0.444740      2.392344    868.000000   \n",
       "50%       63.000000      0.570302      3.396739   1472.000000   \n",
       "75%       70.000000      0.687358      5.760369   2090.000000   \n",
       "max       92.000000      1.295238     16.666667  15780.000000   \n",
       "\n",
       "       app_loan_amount  app_n_installments  app_number_of_children  \\\n",
       "count          11437.0             11437.0            11437.000000   \n",
       "mean            5000.0                24.0                0.678849   \n",
       "std                0.0                 0.0                0.889654   \n",
       "min             5000.0                24.0                0.000000   \n",
       "25%             5000.0                24.0                0.000000   \n",
       "50%             5000.0                24.0                0.000000   \n",
       "75%             5000.0                24.0                1.000000   \n",
       "max             5000.0                24.0                3.000000   \n",
       "\n",
       "       app_spendings  app_installment   act_call_cc            ...             \\\n",
       "count   11437.000000          11437.0  11437.000000            ...              \n",
       "mean      626.248142            208.0      0.996984            ...              \n",
       "std       543.503164              0.0      0.500551            ...              \n",
       "min         0.000000            208.0      0.099325            ...              \n",
       "25%       300.000000            208.0      0.652535            ...              \n",
       "50%       480.000000            208.0      0.895154            ...              \n",
       "75%       760.000000            208.0      1.230357            ...              \n",
       "max      8040.000000            208.0      5.299674            ...              \n",
       "\n",
       "       agr12_Min_CMaxA_Due  ags12_Min_CMaxA_Due  act12_n_arrears  \\\n",
       "count          8562.000000         11437.000000     11437.000000   \n",
       "mean              0.024644             0.018449         3.725802   \n",
       "std               0.155046             0.134574         3.518478   \n",
       "min               0.000000             0.000000         0.000000   \n",
       "25%               0.000000             0.000000         0.000000   \n",
       "50%               0.000000             0.000000         3.000000   \n",
       "75%               0.000000             0.000000         6.000000   \n",
       "max               1.000000             1.000000        12.000000   \n",
       "\n",
       "       act12_n_arrears_days  act12_n_good_days  cross_response  \\\n",
       "count          11437.000000       11437.000000    11437.000000   \n",
       "mean               0.123109           5.270001        0.372563   \n",
       "std                0.393265           2.792088        0.483508   \n",
       "min                0.000000           0.000000        0.000000   \n",
       "25%                0.000000           3.000000        0.000000   \n",
       "50%                0.000000           5.000000        0.000000   \n",
       "75%                0.000000           7.000000        1.000000   \n",
       "max                5.000000          12.000000        1.000000   \n",
       "\n",
       "       cross_after_monhs    default12  cross_app_loan_amount  \\\n",
       "count        4261.000000  9861.000000                 4261.0   \n",
       "mean            4.140812     0.490417                 5000.0   \n",
       "std             0.347868     0.499934                    0.0   \n",
       "min             4.000000     0.000000                 5000.0   \n",
       "25%             4.000000     0.000000                 5000.0   \n",
       "50%             4.000000     0.000000                 5000.0   \n",
       "75%             4.000000     1.000000                 5000.0   \n",
       "max             5.000000     1.000000                 5000.0   \n",
       "\n",
       "       cross_app_n_installments  \n",
       "count                    4261.0  \n",
       "mean                       24.0  \n",
       "std                         0.0  \n",
       "min                        24.0  \n",
       "25%                        24.0  \n",
       "50%                        24.0  \n",
       "75%                        24.0  \n",
       "max                        24.0  \n",
       "\n",
       "[8 rows x 199 columns]"
      ]
     },
     "execution_count": 314,
     "metadata": {},
     "output_type": "execute_result"
    }
   ],
   "source": [
    "#opis danych\n",
    "\n",
    "dane.describe()"
   ]
  },
  {
   "cell_type": "code",
   "execution_count": 315,
   "metadata": {},
   "outputs": [
    {
     "name": "stdout",
     "output_type": "stream",
     "text": [
      "(11437, 208)\n"
     ]
    }
   ],
   "source": [
    "print(dane.shape)"
   ]
  },
  {
   "cell_type": "code",
   "execution_count": 316,
   "metadata": {},
   "outputs": [
    {
     "name": "stdout",
     "output_type": "stream",
     "text": [
      "(9861, 208)\n"
     ]
    }
   ],
   "source": [
    "#usunięcie wierszy z brakującymi wartościami dla targetu, czli kolumny default12\n",
    "\n",
    "dane = dane.dropna(subset = ['default12'])\n",
    "print(dane.shape)"
   ]
  },
  {
   "cell_type": "code",
   "execution_count": 317,
   "metadata": {},
   "outputs": [
    {
     "data": {
      "text/plain": [
       "act_age                     False\n",
       "act_cc                      False\n",
       "act_loaninc                 False\n",
       "app_income                  False\n",
       "app_loan_amount              True\n",
       "app_n_installments           True\n",
       "app_number_of_children      False\n",
       "app_spendings               False\n",
       "app_installment              True\n",
       "act_call_cc                 False\n",
       "act_cins_n_loan             False\n",
       "act_ccss_n_loan             False\n",
       "act_call_n_loan             False\n",
       "act_cins_seniority          False\n",
       "act_cins_min_seniority      False\n",
       "act_cins_n_loans_hist       False\n",
       "act_cins_n_statC            False\n",
       "act_cins_n_statB            False\n",
       "act_cins_n_loans_act        False\n",
       "act_cins_maxdue             False\n",
       "act_cins_min_pninst         False\n",
       "act_cins_min_lninst         False\n",
       "act_cins_utl                False\n",
       "act_cins_dueutl             False\n",
       "act_cins_cc                 False\n",
       "act_ccss_seniority          False\n",
       "act_ccss_min_seniority      False\n",
       "act_ccss_n_loans_hist       False\n",
       "act_ccss_n_statC            False\n",
       "act_ccss_n_statB            False\n",
       "                            ...  \n",
       "agr12_Max_CMaxC_Days        False\n",
       "ags12_Max_CMaxC_Days        False\n",
       "agr12_Min_CMaxC_Days        False\n",
       "ags12_Min_CMaxC_Days        False\n",
       "agr12_Mean_CMaxC_Due        False\n",
       "ags12_Mean_CMaxC_Due        False\n",
       "agr12_Max_CMaxC_Due         False\n",
       "ags12_Max_CMaxC_Due         False\n",
       "agr12_Min_CMaxC_Due         False\n",
       "ags12_Min_CMaxC_Due         False\n",
       "agr12_Mean_CMaxA_Days       False\n",
       "ags12_Mean_CMaxA_Days       False\n",
       "agr12_Max_CMaxA_Days        False\n",
       "ags12_Max_CMaxA_Days        False\n",
       "agr12_Min_CMaxA_Days        False\n",
       "ags12_Min_CMaxA_Days        False\n",
       "agr12_Mean_CMaxA_Due        False\n",
       "ags12_Mean_CMaxA_Due        False\n",
       "agr12_Max_CMaxA_Due         False\n",
       "ags12_Max_CMaxA_Due         False\n",
       "agr12_Min_CMaxA_Due         False\n",
       "ags12_Min_CMaxA_Due         False\n",
       "act12_n_arrears             False\n",
       "act12_n_arrears_days        False\n",
       "act12_n_good_days           False\n",
       "cross_response              False\n",
       "cross_after_monhs           False\n",
       "default12                   False\n",
       "cross_app_loan_amount        True\n",
       "cross_app_n_installments     True\n",
       "Length: 199, dtype: bool"
      ]
     },
     "execution_count": 317,
     "metadata": {},
     "output_type": "execute_result"
    }
   ],
   "source": [
    "#z opisu widać, że są kolumny, które mają wszędzie te same wartości liczbowe\n",
    "#usunę je, bo nie będą istotnym parametrem modelu\n",
    "#łatwiej usunąć kolumny, niż wybierać te istotne ze wszystkich dostępnych\n",
    "#wykorzystam odchylenie standardowe, bo nie ma równego podziału wartości w danych\n",
    "\n",
    "dane.std() == 0"
   ]
  },
  {
   "cell_type": "code",
   "execution_count": 318,
   "metadata": {},
   "outputs": [
    {
     "data": {
      "text/plain": [
       "6"
      ]
     },
     "execution_count": 318,
     "metadata": {},
     "output_type": "execute_result"
    }
   ],
   "source": [
    "sum(dane.std() == 0)"
   ]
  },
  {
   "cell_type": "code",
   "execution_count": 319,
   "metadata": {
    "scrolled": true
   },
   "outputs": [],
   "source": [
    "#mam tylko 6 takich kolumn, usuwam je\n",
    "\n",
    "dane = dane.drop(['app_loan_amount','app_n_installments','app_installment','act_cus_active','cross_app_loan_amount','cross_app_n_installments'],axis = 1)"
   ]
  },
  {
   "cell_type": "code",
   "execution_count": 320,
   "metadata": {},
   "outputs": [
    {
     "data": {
      "text/plain": [
       "product                     object\n",
       "act_age                    float64\n",
       "act_cc                     float64\n",
       "act_loaninc                float64\n",
       "app_income                 float64\n",
       "app_number_of_children     float64\n",
       "app_spendings              float64\n",
       "app_char_branch             object\n",
       "app_char_gender             object\n",
       "app_char_job_code           object\n",
       "app_char_marital_status     object\n",
       "app_char_city               object\n",
       "app_char_home_status        object\n",
       "app_char_cars               object\n",
       "act_call_cc                float64\n",
       "act_cins_n_loan            float64\n",
       "act_ccss_n_loan            float64\n",
       "act_call_n_loan            float64\n",
       "act_cins_seniority         float64\n",
       "act_cins_min_seniority     float64\n",
       "act_cins_n_loans_hist      float64\n",
       "act_cins_n_statC           float64\n",
       "act_cins_n_statB           float64\n",
       "act_cins_n_loans_act       float64\n",
       "act_cins_maxdue            float64\n",
       "act_cins_min_pninst        float64\n",
       "act_cins_min_lninst        float64\n",
       "act_cins_utl               float64\n",
       "act_cins_dueutl            float64\n",
       "act_cins_cc                float64\n",
       "                            ...   \n",
       "ags12_Mean_CMaxC_Days      float64\n",
       "agr12_Max_CMaxC_Days       float64\n",
       "ags12_Max_CMaxC_Days       float64\n",
       "agr12_Min_CMaxC_Days       float64\n",
       "ags12_Min_CMaxC_Days       float64\n",
       "agr12_Mean_CMaxC_Due       float64\n",
       "ags12_Mean_CMaxC_Due       float64\n",
       "agr12_Max_CMaxC_Due        float64\n",
       "ags12_Max_CMaxC_Due        float64\n",
       "agr12_Min_CMaxC_Due        float64\n",
       "ags12_Min_CMaxC_Due        float64\n",
       "agr12_Mean_CMaxA_Days      float64\n",
       "ags12_Mean_CMaxA_Days      float64\n",
       "agr12_Max_CMaxA_Days       float64\n",
       "ags12_Max_CMaxA_Days       float64\n",
       "agr12_Min_CMaxA_Days       float64\n",
       "ags12_Min_CMaxA_Days       float64\n",
       "agr12_Mean_CMaxA_Due       float64\n",
       "ags12_Mean_CMaxA_Due       float64\n",
       "agr12_Max_CMaxA_Due        float64\n",
       "ags12_Max_CMaxA_Due        float64\n",
       "agr12_Min_CMaxA_Due        float64\n",
       "ags12_Min_CMaxA_Due        float64\n",
       "act12_n_arrears            float64\n",
       "act12_n_arrears_days       float64\n",
       "act12_n_good_days          float64\n",
       "decision                    object\n",
       "cross_response             float64\n",
       "cross_after_monhs          float64\n",
       "default12                  float64\n",
       "Length: 202, dtype: object"
      ]
     },
     "execution_count": 320,
     "metadata": {},
     "output_type": "execute_result"
    }
   ],
   "source": [
    "#przegląd typów kolumn\n",
    "\n",
    "dane.dtypes"
   ]
  },
  {
   "cell_type": "code",
   "execution_count": 321,
   "metadata": {},
   "outputs": [
    {
     "data": {
      "text/plain": [
       "product                    object\n",
       "app_char_branch            object\n",
       "app_char_gender            object\n",
       "app_char_job_code          object\n",
       "app_char_marital_status    object\n",
       "app_char_city              object\n",
       "app_char_home_status       object\n",
       "app_char_cars              object\n",
       "decision                   object\n",
       "dtype: object"
      ]
     },
     "execution_count": 321,
     "metadata": {},
     "output_type": "execute_result"
    }
   ],
   "source": [
    "#znalezienie tylko kolumn typu innego niż numeryczny\n",
    "\n",
    "dane.dtypes[dane.dtypes != 'float64']"
   ]
  },
  {
   "cell_type": "code",
   "execution_count": 322,
   "metadata": {},
   "outputs": [
    {
     "data": {
      "text/plain": [
       "css    9861\n",
       "Name: product, dtype: int64"
      ]
     },
     "execution_count": 322,
     "metadata": {},
     "output_type": "execute_result"
    }
   ],
   "source": [
    "#przegląd wartości we wszystkich kolumnach typu object\n",
    "\n",
    "dane['product'].value_counts()"
   ]
  },
  {
   "cell_type": "code",
   "execution_count": 323,
   "metadata": {},
   "outputs": [
    {
     "data": {
      "text/plain": [
       "Empty    9861\n",
       "Name: app_char_branch, dtype: int64"
      ]
     },
     "execution_count": 323,
     "metadata": {},
     "output_type": "execute_result"
    }
   ],
   "source": [
    "dane['app_char_branch'].value_counts()"
   ]
  },
  {
   "cell_type": "code",
   "execution_count": 324,
   "metadata": {},
   "outputs": [
    {
     "data": {
      "text/plain": [
       "Female    7513\n",
       "Male      2348\n",
       "Name: app_char_gender, dtype: int64"
      ]
     },
     "execution_count": 324,
     "metadata": {},
     "output_type": "execute_result"
    }
   ],
   "source": [
    "dane['app_char_gender'].value_counts()"
   ]
  },
  {
   "cell_type": "code",
   "execution_count": 325,
   "metadata": {},
   "outputs": [
    {
     "data": {
      "text/plain": [
       "Retired          6744\n",
       "Permanent        2326\n",
       "Owner company     484\n",
       "Contract          307\n",
       "Name: app_char_job_code, dtype: int64"
      ]
     },
     "execution_count": 325,
     "metadata": {},
     "output_type": "execute_result"
    }
   ],
   "source": [
    "dane['app_char_job_code'].value_counts()"
   ]
  },
  {
   "cell_type": "code",
   "execution_count": 326,
   "metadata": {},
   "outputs": [
    {
     "data": {
      "text/plain": [
       "Maried      4903\n",
       "Widowed     2583\n",
       "Divorced    2290\n",
       "Singiel       85\n",
       "Name: app_char_marital_status, dtype: int64"
      ]
     },
     "execution_count": 326,
     "metadata": {},
     "output_type": "execute_result"
    }
   ],
   "source": [
    "dane['app_char_marital_status'].value_counts()"
   ]
  },
  {
   "cell_type": "code",
   "execution_count": 327,
   "metadata": {},
   "outputs": [
    {
     "data": {
      "text/plain": [
       "Big       3457\n",
       "Medium    3283\n",
       "Small     1706\n",
       "Large     1415\n",
       "Name: app_char_city, dtype: int64"
      ]
     },
     "execution_count": 327,
     "metadata": {},
     "output_type": "execute_result"
    }
   ],
   "source": [
    "dane['app_char_city'].value_counts()"
   ]
  },
  {
   "cell_type": "code",
   "execution_count": 328,
   "metadata": {},
   "outputs": [
    {
     "data": {
      "text/plain": [
       "Owner           8784\n",
       "Rental          1076\n",
       "With parents       1\n",
       "Name: app_char_home_status, dtype: int64"
      ]
     },
     "execution_count": 328,
     "metadata": {},
     "output_type": "execute_result"
    }
   ],
   "source": [
    "dane['app_char_home_status'].value_counts()"
   ]
  },
  {
   "cell_type": "code",
   "execution_count": 329,
   "metadata": {},
   "outputs": [
    {
     "data": {
      "text/plain": [
       "Owner    8584\n",
       "No       1277\n",
       "Name: app_char_cars, dtype: int64"
      ]
     },
     "execution_count": 329,
     "metadata": {},
     "output_type": "execute_result"
    }
   ],
   "source": [
    "dane['app_char_cars'].value_counts()"
   ]
  },
  {
   "cell_type": "code",
   "execution_count": 330,
   "metadata": {},
   "outputs": [
    {
     "data": {
      "text/plain": [
       "A    9861\n",
       "Name: decision, dtype: int64"
      ]
     },
     "execution_count": 330,
     "metadata": {},
     "output_type": "execute_result"
    }
   ],
   "source": [
    "dane['decision'].value_counts()"
   ]
  },
  {
   "cell_type": "code",
   "execution_count": 331,
   "metadata": {},
   "outputs": [
    {
     "name": "stdout",
     "output_type": "stream",
     "text": [
      "(9861, 199)\n"
     ]
    }
   ],
   "source": [
    "#usunięcie wybranych kolumn, ponieważ zawierają tylko jedną wartość\n",
    "\n",
    "dane = dane.drop(['product','app_char_branch','decision'],axis = 1)\n",
    "print(dane.shape)"
   ]
  },
  {
   "cell_type": "code",
   "execution_count": 332,
   "metadata": {},
   "outputs": [],
   "source": [
    "#zamiana wartości w pozostałych kolumnach typu object na wartości liczbowe\n",
    "\n",
    "dane['app_char_gender'] = np.where(dane['app_char_gender'] == 'Male',0,dane['app_char_gender'])\n",
    "dane['app_char_gender'] = np.where(dane['app_char_gender'] == 'Female',1,dane['app_char_gender'])\n",
    "\n",
    "dane['app_char_job_code'] = np.where(dane['app_char_job_code'] == 'Retired',0,dane['app_char_job_code'])\n",
    "dane['app_char_job_code'] = np.where(dane['app_char_job_code'] == 'Permanent',1,dane['app_char_job_code'])\n",
    "dane['app_char_job_code'] = np.where(dane['app_char_job_code'] == 'Owner company',2,dane['app_char_job_code'])\n",
    "dane['app_char_job_code'] = np.where(dane['app_char_job_code'] == 'Contract',3,dane['app_char_job_code'])\n",
    "\n",
    "dane['app_char_marital_status'] = np.where(dane['app_char_marital_status'] == 'Maried',0,dane['app_char_marital_status'])\n",
    "dane['app_char_marital_status'] = np.where(dane['app_char_marital_status'] == 'Widowed',1,dane['app_char_marital_status'])\n",
    "dane['app_char_marital_status'] = np.where(dane['app_char_marital_status'] == 'Divorced',2,dane['app_char_marital_status'])\n",
    "dane['app_char_marital_status'] = np.where(dane['app_char_marital_status'] == 'Singiel',3,dane['app_char_marital_status'])\n",
    "\n",
    "dane['app_char_city'] = np.where(dane['app_char_city'] == 'Big',0,dane['app_char_city'])\n",
    "dane['app_char_city'] = np.where(dane['app_char_city'] == 'Medium',1,dane['app_char_city'])\n",
    "dane['app_char_city'] = np.where(dane['app_char_city'] == 'Small',2,dane['app_char_city'])\n",
    "dane['app_char_city'] = np.where(dane['app_char_city'] == 'Large',3,dane['app_char_city'])\n",
    "\n",
    "dane['app_char_home_status'] = np.where(dane['app_char_home_status'] == 'Owner',0,dane['app_char_home_status'])\n",
    "dane['app_char_home_status'] = np.where(dane['app_char_home_status'] == 'Rental',1,dane['app_char_home_status'])\n",
    "dane['app_char_home_status'] = np.where(dane['app_char_home_status'] == 'With parents',2,dane['app_char_home_status'])\n",
    "\n",
    "dane['app_char_cars'] = np.where(dane['app_char_cars'] == 'Owner',0,dane['app_char_cars'])\n",
    "dane['app_char_cars'] = np.where(dane['app_char_cars'] == 'No',1,dane['app_char_cars'])"
   ]
  },
  {
   "cell_type": "code",
   "execution_count": 333,
   "metadata": {},
   "outputs": [
    {
     "data": {
      "text/html": [
       "<div>\n",
       "<style scoped>\n",
       "    .dataframe tbody tr th:only-of-type {\n",
       "        vertical-align: middle;\n",
       "    }\n",
       "\n",
       "    .dataframe tbody tr th {\n",
       "        vertical-align: top;\n",
       "    }\n",
       "\n",
       "    .dataframe thead th {\n",
       "        text-align: right;\n",
       "    }\n",
       "</style>\n",
       "<table border=\"1\" class=\"dataframe\">\n",
       "  <thead>\n",
       "    <tr style=\"text-align: right;\">\n",
       "      <th></th>\n",
       "      <th>act_age</th>\n",
       "      <th>act_cc</th>\n",
       "      <th>act_loaninc</th>\n",
       "      <th>app_income</th>\n",
       "      <th>app_number_of_children</th>\n",
       "      <th>app_spendings</th>\n",
       "      <th>app_char_gender</th>\n",
       "      <th>app_char_job_code</th>\n",
       "      <th>app_char_marital_status</th>\n",
       "      <th>app_char_city</th>\n",
       "      <th>...</th>\n",
       "      <th>agr12_Max_CMaxA_Due</th>\n",
       "      <th>ags12_Max_CMaxA_Due</th>\n",
       "      <th>agr12_Min_CMaxA_Due</th>\n",
       "      <th>ags12_Min_CMaxA_Due</th>\n",
       "      <th>act12_n_arrears</th>\n",
       "      <th>act12_n_arrears_days</th>\n",
       "      <th>act12_n_good_days</th>\n",
       "      <th>cross_response</th>\n",
       "      <th>cross_after_monhs</th>\n",
       "      <th>default12</th>\n",
       "    </tr>\n",
       "  </thead>\n",
       "  <tbody>\n",
       "    <tr>\n",
       "      <th>0</th>\n",
       "      <td>45.0</td>\n",
       "      <td>0.326905</td>\n",
       "      <td>1.530456</td>\n",
       "      <td>3267.0</td>\n",
       "      <td>3.0</td>\n",
       "      <td>860.0</td>\n",
       "      <td>1</td>\n",
       "      <td>1</td>\n",
       "      <td>0</td>\n",
       "      <td>0</td>\n",
       "      <td>...</td>\n",
       "      <td>3.0</td>\n",
       "      <td>3.0</td>\n",
       "      <td>0.0</td>\n",
       "      <td>0.0</td>\n",
       "      <td>10.0</td>\n",
       "      <td>2.0</td>\n",
       "      <td>4.0</td>\n",
       "      <td>0.0</td>\n",
       "      <td>NaN</td>\n",
       "      <td>1.0</td>\n",
       "    </tr>\n",
       "    <tr>\n",
       "      <th>1</th>\n",
       "      <td>42.0</td>\n",
       "      <td>0.538908</td>\n",
       "      <td>2.903600</td>\n",
       "      <td>1722.0</td>\n",
       "      <td>1.0</td>\n",
       "      <td>720.0</td>\n",
       "      <td>0</td>\n",
       "      <td>1</td>\n",
       "      <td>0</td>\n",
       "      <td>0</td>\n",
       "      <td>...</td>\n",
       "      <td>NaN</td>\n",
       "      <td>0.0</td>\n",
       "      <td>NaN</td>\n",
       "      <td>0.0</td>\n",
       "      <td>0.0</td>\n",
       "      <td>0.0</td>\n",
       "      <td>1.0</td>\n",
       "      <td>0.0</td>\n",
       "      <td>NaN</td>\n",
       "      <td>0.0</td>\n",
       "    </tr>\n",
       "    <tr>\n",
       "      <th>2</th>\n",
       "      <td>59.0</td>\n",
       "      <td>0.543742</td>\n",
       "      <td>3.364738</td>\n",
       "      <td>1486.0</td>\n",
       "      <td>2.0</td>\n",
       "      <td>600.0</td>\n",
       "      <td>1</td>\n",
       "      <td>0</td>\n",
       "      <td>0</td>\n",
       "      <td>0</td>\n",
       "      <td>...</td>\n",
       "      <td>1.0</td>\n",
       "      <td>1.0</td>\n",
       "      <td>0.0</td>\n",
       "      <td>0.0</td>\n",
       "      <td>4.0</td>\n",
       "      <td>0.0</td>\n",
       "      <td>1.0</td>\n",
       "      <td>1.0</td>\n",
       "      <td>4.0</td>\n",
       "      <td>0.0</td>\n",
       "    </tr>\n",
       "    <tr>\n",
       "      <th>3</th>\n",
       "      <td>63.0</td>\n",
       "      <td>0.587702</td>\n",
       "      <td>3.236246</td>\n",
       "      <td>1545.0</td>\n",
       "      <td>0.0</td>\n",
       "      <td>700.0</td>\n",
       "      <td>1</td>\n",
       "      <td>0</td>\n",
       "      <td>2</td>\n",
       "      <td>0</td>\n",
       "      <td>...</td>\n",
       "      <td>NaN</td>\n",
       "      <td>2.0</td>\n",
       "      <td>NaN</td>\n",
       "      <td>0.0</td>\n",
       "      <td>3.0</td>\n",
       "      <td>0.0</td>\n",
       "      <td>4.0</td>\n",
       "      <td>0.0</td>\n",
       "      <td>NaN</td>\n",
       "      <td>0.0</td>\n",
       "    </tr>\n",
       "    <tr>\n",
       "      <th>4</th>\n",
       "      <td>48.0</td>\n",
       "      <td>0.436407</td>\n",
       "      <td>1.506932</td>\n",
       "      <td>3318.0</td>\n",
       "      <td>2.0</td>\n",
       "      <td>1240.0</td>\n",
       "      <td>1</td>\n",
       "      <td>2</td>\n",
       "      <td>0</td>\n",
       "      <td>0</td>\n",
       "      <td>...</td>\n",
       "      <td>0.0</td>\n",
       "      <td>0.0</td>\n",
       "      <td>0.0</td>\n",
       "      <td>0.0</td>\n",
       "      <td>0.0</td>\n",
       "      <td>0.0</td>\n",
       "      <td>10.0</td>\n",
       "      <td>0.0</td>\n",
       "      <td>NaN</td>\n",
       "      <td>1.0</td>\n",
       "    </tr>\n",
       "  </tbody>\n",
       "</table>\n",
       "<p>5 rows × 199 columns</p>\n",
       "</div>"
      ],
      "text/plain": [
       "   act_age    act_cc  act_loaninc  app_income  app_number_of_children  \\\n",
       "0     45.0  0.326905     1.530456      3267.0                     3.0   \n",
       "1     42.0  0.538908     2.903600      1722.0                     1.0   \n",
       "2     59.0  0.543742     3.364738      1486.0                     2.0   \n",
       "3     63.0  0.587702     3.236246      1545.0                     0.0   \n",
       "4     48.0  0.436407     1.506932      3318.0                     2.0   \n",
       "\n",
       "   app_spendings app_char_gender app_char_job_code app_char_marital_status  \\\n",
       "0          860.0               1                 1                       0   \n",
       "1          720.0               0                 1                       0   \n",
       "2          600.0               1                 0                       0   \n",
       "3          700.0               1                 0                       2   \n",
       "4         1240.0               1                 2                       0   \n",
       "\n",
       "  app_char_city    ...     agr12_Max_CMaxA_Due ags12_Max_CMaxA_Due  \\\n",
       "0             0    ...                     3.0                 3.0   \n",
       "1             0    ...                     NaN                 0.0   \n",
       "2             0    ...                     1.0                 1.0   \n",
       "3             0    ...                     NaN                 2.0   \n",
       "4             0    ...                     0.0                 0.0   \n",
       "\n",
       "   agr12_Min_CMaxA_Due  ags12_Min_CMaxA_Due  act12_n_arrears  \\\n",
       "0                  0.0                  0.0             10.0   \n",
       "1                  NaN                  0.0              0.0   \n",
       "2                  0.0                  0.0              4.0   \n",
       "3                  NaN                  0.0              3.0   \n",
       "4                  0.0                  0.0              0.0   \n",
       "\n",
       "   act12_n_arrears_days  act12_n_good_days  cross_response  cross_after_monhs  \\\n",
       "0                   2.0                4.0             0.0                NaN   \n",
       "1                   0.0                1.0             0.0                NaN   \n",
       "2                   0.0                1.0             1.0                4.0   \n",
       "3                   0.0                4.0             0.0                NaN   \n",
       "4                   0.0               10.0             0.0                NaN   \n",
       "\n",
       "   default12  \n",
       "0        1.0  \n",
       "1        0.0  \n",
       "2        0.0  \n",
       "3        0.0  \n",
       "4        1.0  \n",
       "\n",
       "[5 rows x 199 columns]"
      ]
     },
     "execution_count": 333,
     "metadata": {},
     "output_type": "execute_result"
    }
   ],
   "source": [
    "dane.head()"
   ]
  },
  {
   "cell_type": "code",
   "execution_count": 334,
   "metadata": {},
   "outputs": [
    {
     "data": {
      "text/plain": [
       "array([1, 0], dtype=object)"
      ]
     },
     "execution_count": 334,
     "metadata": {},
     "output_type": "execute_result"
    }
   ],
   "source": [
    "#mimo cyfr przekształcane kolumny są nadal typu object\n",
    "\n",
    "dane['app_char_gender'].unique()"
   ]
  },
  {
   "cell_type": "code",
   "execution_count": 335,
   "metadata": {},
   "outputs": [
    {
     "data": {
      "text/plain": [
       "array([1, 0], dtype=int64)"
      ]
     },
     "execution_count": 335,
     "metadata": {},
     "output_type": "execute_result"
    }
   ],
   "source": [
    "#zamiana typu przekształconych kolumn na typ liczbowy int\n",
    "\n",
    "dane['app_char_gender'] = dane['app_char_gender'].astype('int')\n",
    "dane['app_char_job_code'] = dane['app_char_job_code'].astype('int')\n",
    "dane['app_char_marital_status'] = dane['app_char_marital_status'].astype('int')\n",
    "dane['app_char_city'] = dane['app_char_city'].astype('int')\n",
    "dane['app_char_home_status'] = dane['app_char_home_status'].astype('int')\n",
    "dane['app_char_cars'] = dane['app_char_cars'].astype('int')\n",
    "\n",
    "dane['app_char_gender'].unique()"
   ]
  },
  {
   "cell_type": "code",
   "execution_count": 336,
   "metadata": {},
   "outputs": [
    {
     "data": {
      "text/plain": [
       "Index(['act_cins_n_loans_act', 'act_cins_maxdue', 'act_cins_min_pninst',\n",
       "       'act_cins_min_lninst', 'act_cins_utl', 'act_cins_dueutl', 'act_cins_cc',\n",
       "       'agr3_Mean_CMaxI_Days', 'ags3_Mean_CMaxI_Days', 'agr3_Max_CMaxI_Days',\n",
       "       'ags3_Max_CMaxI_Days', 'agr3_Min_CMaxI_Days', 'ags3_Min_CMaxI_Days',\n",
       "       'agr3_Mean_CMaxI_Due', 'ags3_Mean_CMaxI_Due', 'agr3_Max_CMaxI_Due',\n",
       "       'ags3_Max_CMaxI_Due', 'agr3_Min_CMaxI_Due', 'ags3_Min_CMaxI_Due',\n",
       "       'agr3_Mean_CMaxC_Days', 'ags3_Mean_CMaxC_Days', 'agr3_Max_CMaxC_Days',\n",
       "       'ags3_Max_CMaxC_Days', 'agr3_Min_CMaxC_Days', 'ags3_Min_CMaxC_Days',\n",
       "       'agr6_Mean_CMaxI_Days', 'ags6_Mean_CMaxI_Days', 'agr6_Max_CMaxI_Days',\n",
       "       'ags6_Max_CMaxI_Days', 'agr6_Min_CMaxI_Days', 'ags6_Min_CMaxI_Days',\n",
       "       'agr6_Mean_CMaxI_Due', 'ags6_Mean_CMaxI_Due', 'agr6_Max_CMaxI_Due',\n",
       "       'ags6_Max_CMaxI_Due', 'agr6_Min_CMaxI_Due', 'ags6_Min_CMaxI_Due',\n",
       "       'agr6_Mean_CMaxC_Days', 'agr6_Max_CMaxC_Days', 'agr6_Min_CMaxC_Days',\n",
       "       'agr6_Mean_CMaxC_Due', 'agr6_Max_CMaxC_Due', 'agr6_Min_CMaxC_Due',\n",
       "       'agr9_Mean_CMaxI_Days', 'agr9_Max_CMaxI_Days', 'agr9_Min_CMaxI_Days',\n",
       "       'agr9_Mean_CMaxI_Due', 'agr9_Max_CMaxI_Due', 'agr9_Min_CMaxI_Due',\n",
       "       'agr9_Mean_CMaxC_Days', 'agr9_Max_CMaxC_Days', 'agr9_Min_CMaxC_Days',\n",
       "       'agr9_Mean_CMaxC_Due', 'agr9_Max_CMaxC_Due', 'agr9_Min_CMaxC_Due',\n",
       "       'agr9_Mean_CMaxA_Days', 'agr9_Max_CMaxA_Days', 'agr9_Min_CMaxA_Days',\n",
       "       'agr12_Mean_CMaxI_Days', 'agr12_Max_CMaxI_Days', 'agr12_Min_CMaxI_Days',\n",
       "       'agr12_Mean_CMaxI_Due', 'agr12_Max_CMaxI_Due', 'agr12_Min_CMaxI_Due',\n",
       "       'agr12_Mean_CMaxC_Days', 'agr12_Max_CMaxC_Days', 'agr12_Min_CMaxC_Days',\n",
       "       'agr12_Mean_CMaxC_Due', 'agr12_Max_CMaxC_Due', 'agr12_Min_CMaxC_Due',\n",
       "       'agr12_Mean_CMaxA_Days', 'agr12_Max_CMaxA_Days', 'agr12_Min_CMaxA_Days',\n",
       "       'cross_after_monhs'],\n",
       "      dtype='object')"
      ]
     },
     "execution_count": 336,
     "metadata": {},
     "output_type": "execute_result"
    }
   ],
   "source": [
    "#szukam kolumn, w których ponad 3000 wartości na obecne 9861 to Nan\n",
    "\n",
    "dane.columns[dane.count() < 6861]"
   ]
  },
  {
   "cell_type": "code",
   "execution_count": 337,
   "metadata": {},
   "outputs": [
    {
     "name": "stdout",
     "output_type": "stream",
     "text": [
      "(9861, 125)\n"
     ]
    }
   ],
   "source": [
    "#usuwam te kolumny\n",
    "\n",
    "dane = dane.drop(['act_cins_n_loans_act', 'act_cins_maxdue', 'act_cins_min_pninst',\n",
    "       'act_cins_min_lninst', 'act_cins_utl', 'act_cins_dueutl', 'act_cins_cc',\n",
    "       'agr3_Mean_CMaxI_Days', 'ags3_Mean_CMaxI_Days', 'agr3_Max_CMaxI_Days',\n",
    "       'ags3_Max_CMaxI_Days', 'agr3_Min_CMaxI_Days', 'ags3_Min_CMaxI_Days',\n",
    "       'agr3_Mean_CMaxI_Due', 'ags3_Mean_CMaxI_Due', 'agr3_Max_CMaxI_Due',\n",
    "       'ags3_Max_CMaxI_Due', 'agr3_Min_CMaxI_Due', 'ags3_Min_CMaxI_Due',\n",
    "       'agr3_Mean_CMaxC_Days', 'ags3_Mean_CMaxC_Days', 'agr3_Max_CMaxC_Days',\n",
    "       'ags3_Max_CMaxC_Days', 'agr3_Min_CMaxC_Days', 'ags3_Min_CMaxC_Days',\n",
    "       'agr6_Mean_CMaxI_Days', 'ags6_Mean_CMaxI_Days', 'agr6_Max_CMaxI_Days',\n",
    "       'ags6_Max_CMaxI_Days', 'agr6_Min_CMaxI_Days', 'ags6_Min_CMaxI_Days',\n",
    "       'agr6_Mean_CMaxI_Due', 'ags6_Mean_CMaxI_Due', 'agr6_Max_CMaxI_Due',\n",
    "       'ags6_Max_CMaxI_Due', 'agr6_Min_CMaxI_Due', 'ags6_Min_CMaxI_Due',\n",
    "       'agr6_Mean_CMaxC_Days', 'agr6_Max_CMaxC_Days', 'agr6_Min_CMaxC_Days',\n",
    "       'agr6_Mean_CMaxC_Due', 'agr6_Max_CMaxC_Due', 'agr6_Min_CMaxC_Due',\n",
    "       'agr9_Mean_CMaxI_Days', 'agr9_Max_CMaxI_Days', 'agr9_Min_CMaxI_Days',\n",
    "       'agr9_Mean_CMaxI_Due', 'agr9_Max_CMaxI_Due', 'agr9_Min_CMaxI_Due',\n",
    "       'agr9_Mean_CMaxC_Days', 'agr9_Max_CMaxC_Days', 'agr9_Min_CMaxC_Days',\n",
    "       'agr9_Mean_CMaxC_Due', 'agr9_Max_CMaxC_Due', 'agr9_Min_CMaxC_Due',\n",
    "       'agr9_Mean_CMaxA_Days', 'agr9_Max_CMaxA_Days', 'agr9_Min_CMaxA_Days',\n",
    "       'agr12_Mean_CMaxI_Days', 'agr12_Max_CMaxI_Days', 'agr12_Min_CMaxI_Days',\n",
    "       'agr12_Mean_CMaxI_Due', 'agr12_Max_CMaxI_Due', 'agr12_Min_CMaxI_Due',\n",
    "       'agr12_Mean_CMaxC_Days', 'agr12_Max_CMaxC_Days', 'agr12_Min_CMaxC_Days',\n",
    "       'agr12_Mean_CMaxC_Due', 'agr12_Max_CMaxC_Due', 'agr12_Min_CMaxC_Due',\n",
    "       'agr12_Mean_CMaxA_Days', 'agr12_Max_CMaxA_Days', 'agr12_Min_CMaxA_Days',\n",
    "       'cross_after_monhs'], axis = 1)\n",
    "\n",
    "print(dane.shape)"
   ]
  },
  {
   "cell_type": "code",
   "execution_count": 338,
   "metadata": {},
   "outputs": [],
   "source": [
    "#zostało 125 kolumn\n",
    "#jeśli są w nich brakujące wartości, to zastępuję je średnią\n",
    "\n",
    "dane = dane.fillna(dane.mean())"
   ]
  },
  {
   "cell_type": "code",
   "execution_count": 339,
   "metadata": {},
   "outputs": [],
   "source": [
    "#określenie targetu, zbioru treningowego i testowego\n",
    "\n",
    "from sklearn.model_selection import train_test_split\n",
    "y = dane['default12']\n",
    "X = dane.drop(['default12'],axis = 1)\n",
    "X_train, X_test, y_train, y_test = train_test_split(X, y, test_size = 0.3)"
   ]
  },
  {
   "cell_type": "code",
   "execution_count": 340,
   "metadata": {},
   "outputs": [
    {
     "name": "stdout",
     "output_type": "stream",
     "text": [
      "Regresja logistyczna:  0.7826968570462994\n"
     ]
    }
   ],
   "source": [
    "#regresja logistyczna\n",
    "\n",
    "from sklearn.linear_model import LogisticRegression\n",
    "logreg=LogisticRegression()\n",
    "logreg.fit(X_train, y_train)\n",
    "logreg_y_pred = logreg.predict (X_test)\n",
    "accuracy_logreg = logreg.score(X_test, y_test)\n",
    "print('Regresja logistyczna: ',accuracy_logreg)"
   ]
  },
  {
   "cell_type": "code",
   "execution_count": 341,
   "metadata": {},
   "outputs": [
    {
     "name": "stdout",
     "output_type": "stream",
     "text": [
      "Drzewo decyzyjne:  0.7005745184183846\n"
     ]
    }
   ],
   "source": [
    "#drzewo decyzyjne\n",
    "\n",
    "from sklearn.tree import DecisionTreeClassifier\n",
    "dectree = DecisionTreeClassifier()\n",
    "dectree.fit(X_train , y_train)\n",
    "dectree_y_pred = dectree.predict(X_test)\n",
    "accuracy_dectree = dectree.score(X_test, y_test)\n",
    "print('Drzewo decyzyjne: ',accuracy_dectree)"
   ]
  },
  {
   "cell_type": "code",
   "execution_count": 342,
   "metadata": {},
   "outputs": [
    {
     "name": "stdout",
     "output_type": "stream",
     "text": [
      "Lasy losowe:  0.7651233524839472\n"
     ]
    }
   ],
   "source": [
    "#lasy losowe\n",
    "\n",
    "from sklearn.ensemble import RandomForestClassifier\n",
    "ranfor = RandomForestClassifier(n_estimators = 100)\n",
    "ranfor.fit(X_train, y_train)\n",
    "ranfor_y_pred = ranfor.predict(X_test)\n",
    "accuracy_ranfor = ranfor.score(X_test, y_test)\n",
    "print('Lasy losowe: ',accuracy_ranfor)"
   ]
  },
  {
   "cell_type": "code",
   "execution_count": 343,
   "metadata": {},
   "outputs": [
    {
     "name": "stdout",
     "output_type": "stream",
     "text": [
      "K najbliższych sąsiadów:  0.6312943562014194\n"
     ]
    }
   ],
   "source": [
    "#k najbliższych sąsiadów\n",
    "\n",
    "from sklearn.neighbors import KNeighborsClassifier\n",
    "knc = KNeighborsClassifier(5)\n",
    "knc.fit(X_train, y_train)\n",
    "knc_y_pred = knc.predict(X_test)\n",
    "accuracy_knc = knc.score(X_test, y_test)\n",
    "print('K najbliższych sąsiadów: ',accuracy_knc)"
   ]
  },
  {
   "cell_type": "code",
   "execution_count": 344,
   "metadata": {},
   "outputs": [
    {
     "name": "stdout",
     "output_type": "stream",
     "text": [
      "Regresja logistyczna:     0.7826968570462994\n",
      "Lasy losowe:              0.7651233524839472\n",
      "Drzewo decyzyjne:         0.7005745184183846\n",
      "K najbliższych sąsiadów:  0.6312943562014194\n"
     ]
    }
   ],
   "source": [
    "#podsumowanie\n",
    "#najlepszy wynik dała regresja logistyczna\n",
    "\n",
    "print('Regresja logistyczna:    ',accuracy_logreg)\n",
    "print('Lasy losowe:             ',accuracy_ranfor)\n",
    "print('Drzewo decyzyjne:        ',accuracy_dectree)\n",
    "print('K najbliższych sąsiadów: ',accuracy_knc)"
   ]
  }
 ],
 "metadata": {
  "kernelspec": {
   "display_name": "Python 3",
   "language": "python",
   "name": "python3"
  },
  "language_info": {
   "codemirror_mode": {
    "name": "ipython",
    "version": 3
   },
   "file_extension": ".py",
   "mimetype": "text/x-python",
   "name": "python",
   "nbconvert_exporter": "python",
   "pygments_lexer": "ipython3",
   "version": "3.6.4"
  }
 },
 "nbformat": 4,
 "nbformat_minor": 2
}
